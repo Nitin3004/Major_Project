{
 "cells": [
  {
   "cell_type": "markdown",
   "metadata": {},
   "source": [
    "# Major Project "
   ]
  },
  {
   "cell_type": "markdown",
   "metadata": {},
   "source": [
    "single linear regression"
   ]
  },
  {
   "cell_type": "code",
   "execution_count": 1,
   "metadata": {},
   "outputs": [],
   "source": [
    "import pandas as pd\n",
    "import numpy as np\n",
    "import matplotlib.pyplot as plt\n",
    "from sklearn.linear_model import LinearRegression\n",
    "from sklearn.metrics import r2_score\n",
    "import statsmodels.api as sm"
   ]
  },
  {
   "cell_type": "code",
   "execution_count": 2,
   "metadata": {},
   "outputs": [
    {
     "data": {
      "text/html": [
       "<div>\n",
       "<style scoped>\n",
       "    .dataframe tbody tr th:only-of-type {\n",
       "        vertical-align: middle;\n",
       "    }\n",
       "\n",
       "    .dataframe tbody tr th {\n",
       "        vertical-align: top;\n",
       "    }\n",
       "\n",
       "    .dataframe thead th {\n",
       "        text-align: right;\n",
       "    }\n",
       "</style>\n",
       "<table border=\"1\" class=\"dataframe\">\n",
       "  <thead>\n",
       "    <tr style=\"text-align: right;\">\n",
       "      <th></th>\n",
       "      <th>X</th>\n",
       "      <th>Y</th>\n",
       "      <th>Temperature</th>\n",
       "    </tr>\n",
       "  </thead>\n",
       "  <tbody>\n",
       "    <tr>\n",
       "      <th>0</th>\n",
       "      <td>3</td>\n",
       "      <td>2</td>\n",
       "      <td>74</td>\n",
       "    </tr>\n",
       "    <tr>\n",
       "      <th>1</th>\n",
       "      <td>6</td>\n",
       "      <td>2</td>\n",
       "      <td>70</td>\n",
       "    </tr>\n",
       "    <tr>\n",
       "      <th>2</th>\n",
       "      <td>9</td>\n",
       "      <td>2</td>\n",
       "      <td>62</td>\n",
       "    </tr>\n",
       "    <tr>\n",
       "      <th>3</th>\n",
       "      <td>12</td>\n",
       "      <td>2</td>\n",
       "      <td>61</td>\n",
       "    </tr>\n",
       "    <tr>\n",
       "      <th>4</th>\n",
       "      <td>15</td>\n",
       "      <td>2</td>\n",
       "      <td>70</td>\n",
       "    </tr>\n",
       "    <tr>\n",
       "      <th>5</th>\n",
       "      <td>18</td>\n",
       "      <td>2</td>\n",
       "      <td>69</td>\n",
       "    </tr>\n",
       "    <tr>\n",
       "      <th>6</th>\n",
       "      <td>21</td>\n",
       "      <td>2</td>\n",
       "      <td>72</td>\n",
       "    </tr>\n",
       "    <tr>\n",
       "      <th>7</th>\n",
       "      <td>3</td>\n",
       "      <td>4</td>\n",
       "      <td>78</td>\n",
       "    </tr>\n",
       "    <tr>\n",
       "      <th>8</th>\n",
       "      <td>6</td>\n",
       "      <td>4</td>\n",
       "      <td>69</td>\n",
       "    </tr>\n",
       "    <tr>\n",
       "      <th>9</th>\n",
       "      <td>9</td>\n",
       "      <td>4</td>\n",
       "      <td>68</td>\n",
       "    </tr>\n",
       "  </tbody>\n",
       "</table>\n",
       "</div>"
      ],
      "text/plain": [
       "    X  Y  Temperature\n",
       "0   3  2           74\n",
       "1   6  2           70\n",
       "2   9  2           62\n",
       "3  12  2           61\n",
       "4  15  2           70\n",
       "5  18  2           69\n",
       "6  21  2           72\n",
       "7   3  4           78\n",
       "8   6  4           69\n",
       "9   9  4           68"
      ]
     },
     "execution_count": 2,
     "metadata": {},
     "output_type": "execute_result"
    }
   ],
   "source": [
    "data = pd.read_excel(\n",
    "    r\"C:\\Users\\Hitesh\\Desktop\\Major Project 2022\\Dataset (1).xlsx\")\n",
    "data.head(10)"
   ]
  },
  {
   "cell_type": "code",
   "execution_count": 3,
   "metadata": {},
   "outputs": [
    {
     "data": {
      "image/png": "[encoded data removed]",
      "text/plain": [
       "<Figure size 1152x576 with 1 Axes>"
      ]
     },
     "metadata": {
      "needs_background": "light"
     },
     "output_type": "display_data"
    }
   ],
   "source": [
    "plt.figure(figsize=(16,8))\n",
    "plt.scatter(\n",
    "    data['X'],\n",
    "    data['Temperature'],\n",
    "    c='red'\n",
    ")\n",
    "plt.xlabel('X-Axis')\n",
    "plt.ylabel('Temp')\n",
    "plt.show()"
   ]
  },
  {
   "cell_type": "code",
   "execution_count": 4,
   "metadata": {},
   "outputs": [
    {
     "data": {
      "text/plain": [
       "LinearRegression()"
      ]
     },
     "execution_count": 4,
     "metadata": {},
     "output_type": "execute_result"
    }
   ],
   "source": [
    "x = data['X'].values.reshape(-1,1)\n",
    "y = data['Temperature'].values.reshape(-1,1)\n",
    "\n",
    "reg = LinearRegression()\n",
    "reg.fit(x,y)"
   ]
  },
  {
   "cell_type": "code",
   "execution_count": 5,
   "metadata": {},
   "outputs": [
    {
     "name": "stdout",
     "output_type": "stream",
     "text": [
      "-0.19047619047619052\n",
      "78.87012987012987\n",
      "The linear model is Y = 78.87 + (-0.19048)X\n"
     ]
    }
   ],
   "source": [
    "print(reg.coef_[0][0])\n",
    "print(reg.intercept_[0])\n",
    "\n",
    "print(\"The linear model is Y = {:.5} + ({:.5})X\"\n",
    "    .format(reg.intercept_[0],reg.coef_[0][0]))\n"
   ]
  },
  {
   "cell_type": "code",
   "execution_count": 6,
   "metadata": {},
   "outputs": [
    {
     "data": {
      "image/png": "[encoded data removed]",
      "text/plain": [
       "<Figure size 1152x576 with 1 Axes>"
      ]
     },
     "metadata": {
      "needs_background": "light"
     },
     "output_type": "display_data"
    }
   ],
   "source": [
    "predictions = reg.predict(x)\n",
    "\n",
    "plt.figure(figsize=(16,8))\n",
    "plt.scatter(\n",
    "    data['X'],\n",
    "    data['Temperature'],\n",
    "    c='red'\n",
    ")\n",
    "\n",
    "plt.plot(\n",
    "    data['X'],\n",
    "    predictions,\n",
    "    c = 'blue'\n",
    "    \n",
    ")\n",
    "\n",
    "plt.xlabel('X-Axis')\n",
    "plt.ylabel('Temp')\n",
    "plt.show()"
   ]
  },
  {
   "cell_type": "code",
   "execution_count": 7,
   "metadata": {},
   "outputs": [
    {
     "name": "stdout",
     "output_type": "stream",
     "text": [
      "                            OLS Regression Results                            \n",
      "==============================================================================\n",
      "Dep. Variable:            Temperature   R-squared:                       0.025\n",
      "Model:                            OLS   Adj. R-squared:                  0.012\n",
      "Method:                 Least Squares   F-statistic:                     1.918\n",
      "Date:                Mon, 11 Jul 2022   Prob (F-statistic):              0.170\n",
      "Time:                        20:19:17   Log-Likelihood:                -260.68\n",
      "No. Observations:                  77   AIC:                             525.4\n",
      "Df Residuals:                      75   BIC:                             530.1\n",
      "Df Model:                           1                                         \n",
      "Covariance Type:            nonrobust                                         \n",
      "==============================================================================\n",
      "                 coef    std err          t      P>|t|      [0.025      0.975]\n",
      "------------------------------------------------------------------------------\n",
      "const         78.8701      1.845     42.745      0.000      75.194      82.546\n",
      "X             -0.1905      0.138     -1.385      0.170      -0.464       0.083\n",
      "==============================================================================\n",
      "Omnibus:                        1.848   Durbin-Watson:                   0.373\n",
      "Prob(Omnibus):                  0.397   Jarque-Bera (JB):                1.721\n",
      "Skew:                           0.359   Prob(JB):                        0.423\n",
      "Kurtosis:                       2.857   Cond. No.                         30.1\n",
      "==============================================================================\n",
      "\n",
      "Notes:\n",
      "[1] Standard Errors assume that the covariance matrix of the errors is correctly specified.\n"
     ]
    }
   ],
   "source": [
    "x = data['X']\n",
    "y = data['Temperature']\n",
    "\n",
    "X2 = sm.add_constant(x)\n",
    "est = sm.OLS(y, X2)\n",
    "est2 = est.fit()\n",
    "print(est2.summary())"
   ]
  },
  {
   "cell_type": "markdown",
   "metadata": {},
   "source": [
    "Multiple linear regression"
   ]
  },
  {
   "cell_type": "code",
   "execution_count": 8,
   "metadata": {},
   "outputs": [],
   "source": [
    "from sklearn.linear_model import LinearRegression\n",
    "from sklearn.model_selection import train_test_split \n",
    "\n",
    "data = pd.read_excel(\n",
    "    r\"C:\\Users\\Hitesh\\Desktop\\Major Project 2022\\Dataset (1).xlsx\", \n",
    "        sheet_name=\"Sheet1\")\n",
    "data.head()\n",
    "\n",
    "xs = data.drop(['Temperature'],axis=1)\n",
    "y = data['Temperature'].values.reshape(-1,1)\n",
    "\n"
   ]
  },
  {
   "cell_type": "code",
   "execution_count": 9,
   "metadata": {},
   "outputs": [
    {
     "data": {
      "text/html": [
       "<div>\n",
       "<style scoped>\n",
       "    .dataframe tbody tr th:only-of-type {\n",
       "        vertical-align: middle;\n",
       "    }\n",
       "\n",
       "    .dataframe tbody tr th {\n",
       "        vertical-align: top;\n",
       "    }\n",
       "\n",
       "    .dataframe thead th {\n",
       "        text-align: right;\n",
       "    }\n",
       "</style>\n",
       "<table border=\"1\" class=\"dataframe\">\n",
       "  <thead>\n",
       "    <tr style=\"text-align: right;\">\n",
       "      <th></th>\n",
       "      <th>X</th>\n",
       "      <th>Y</th>\n",
       "    </tr>\n",
       "  </thead>\n",
       "  <tbody>\n",
       "    <tr>\n",
       "      <th>0</th>\n",
       "      <td>3</td>\n",
       "      <td>2</td>\n",
       "    </tr>\n",
       "    <tr>\n",
       "      <th>1</th>\n",
       "      <td>6</td>\n",
       "      <td>2</td>\n",
       "    </tr>\n",
       "    <tr>\n",
       "      <th>2</th>\n",
       "      <td>9</td>\n",
       "      <td>2</td>\n",
       "    </tr>\n",
       "    <tr>\n",
       "      <th>3</th>\n",
       "      <td>12</td>\n",
       "      <td>2</td>\n",
       "    </tr>\n",
       "    <tr>\n",
       "      <th>4</th>\n",
       "      <td>15</td>\n",
       "      <td>2</td>\n",
       "    </tr>\n",
       "    <tr>\n",
       "      <th>...</th>\n",
       "      <td>...</td>\n",
       "      <td>...</td>\n",
       "    </tr>\n",
       "    <tr>\n",
       "      <th>72</th>\n",
       "      <td>9</td>\n",
       "      <td>22</td>\n",
       "    </tr>\n",
       "    <tr>\n",
       "      <th>73</th>\n",
       "      <td>12</td>\n",
       "      <td>22</td>\n",
       "    </tr>\n",
       "    <tr>\n",
       "      <th>74</th>\n",
       "      <td>15</td>\n",
       "      <td>22</td>\n",
       "    </tr>\n",
       "    <tr>\n",
       "      <th>75</th>\n",
       "      <td>18</td>\n",
       "      <td>22</td>\n",
       "    </tr>\n",
       "    <tr>\n",
       "      <th>76</th>\n",
       "      <td>21</td>\n",
       "      <td>22</td>\n",
       "    </tr>\n",
       "  </tbody>\n",
       "</table>\n",
       "<p>77 rows × 2 columns</p>\n",
       "</div>"
      ],
      "text/plain": [
       "     X   Y\n",
       "0    3   2\n",
       "1    6   2\n",
       "2    9   2\n",
       "3   12   2\n",
       "4   15   2\n",
       "..  ..  ..\n",
       "72   9  22\n",
       "73  12  22\n",
       "74  15  22\n",
       "75  18  22\n",
       "76  21  22\n",
       "\n",
       "[77 rows x 2 columns]"
      ]
     },
     "execution_count": 9,
     "metadata": {},
     "output_type": "execute_result"
    }
   ],
   "source": [
    "xs = data.drop(['Temperature'],axis=1)\n",
    "y = data['Temperature'].values.reshape(-1,1)\n",
    "\n",
    "reg = LinearRegression()\n",
    "reg.fit(xs,y)\n",
    "xs"
   ]
  },
  {
   "cell_type": "code",
   "execution_count": 10,
   "metadata": {},
   "outputs": [
    {
     "name": "stdout",
     "output_type": "stream",
     "text": [
      "r2 socre is 0.8074435985744436\n"
     ]
    }
   ],
   "source": [
    "from sklearn.metrics import r2_score\n",
    "from sklearn.metrics import mean_squared_error\n",
    "\n",
    "\n",
    "x_train, x_test, y_train, y_test = train_test_split(\n",
    "    xs , y ,test_size = 0.2, random_state = 111)\n",
    "\n",
    "LR = LinearRegression()\n",
    "LR.fit(x_train,y_train)\n",
    "\n",
    "y_prediction =  LR.predict(x_test)\n",
    "y_prediction\n",
    "\n",
    "\n",
    "score=r2_score(y_test,y_prediction)\n",
    "print(\"r2 socre is \" + str(score))"
   ]
  },
  {
   "cell_type": "code",
   "execution_count": 11,
   "metadata": {},
   "outputs": [
    {
     "data": {
      "text/plain": [
       "array([[80.06103896]])"
      ]
     },
     "execution_count": 11,
     "metadata": {},
     "output_type": "execute_result"
    }
   ],
   "source": [
    "reg.predict([[3,14]])"
   ]
  },
  {
   "cell_type": "code",
   "execution_count": 12,
   "metadata": {},
   "outputs": [
    {
     "data": {
      "text/html": [
       "<div>\n",
       "<style scoped>\n",
       "    .dataframe tbody tr th:only-of-type {\n",
       "        vertical-align: middle;\n",
       "    }\n",
       "\n",
       "    .dataframe tbody tr th {\n",
       "        vertical-align: top;\n",
       "    }\n",
       "\n",
       "    .dataframe thead th {\n",
       "        text-align: right;\n",
       "    }\n",
       "</style>\n",
       "<table border=\"1\" class=\"dataframe\">\n",
       "  <thead>\n",
       "    <tr style=\"text-align: right;\">\n",
       "      <th></th>\n",
       "      <th>X</th>\n",
       "      <th>Y</th>\n",
       "      <th>Pred_Temp</th>\n",
       "    </tr>\n",
       "  </thead>\n",
       "  <tbody>\n",
       "    <tr>\n",
       "      <th>0</th>\n",
       "      <td>3</td>\n",
       "      <td>2</td>\n",
       "      <td>69.487013</td>\n",
       "    </tr>\n",
       "    <tr>\n",
       "      <th>1</th>\n",
       "      <td>6</td>\n",
       "      <td>2</td>\n",
       "      <td>68.915584</td>\n",
       "    </tr>\n",
       "    <tr>\n",
       "      <th>2</th>\n",
       "      <td>9</td>\n",
       "      <td>2</td>\n",
       "      <td>68.344156</td>\n",
       "    </tr>\n",
       "    <tr>\n",
       "      <th>3</th>\n",
       "      <td>12</td>\n",
       "      <td>2</td>\n",
       "      <td>67.772727</td>\n",
       "    </tr>\n",
       "    <tr>\n",
       "      <th>4</th>\n",
       "      <td>15</td>\n",
       "      <td>2</td>\n",
       "      <td>67.201299</td>\n",
       "    </tr>\n",
       "    <tr>\n",
       "      <th>5</th>\n",
       "      <td>18</td>\n",
       "      <td>2</td>\n",
       "      <td>66.629870</td>\n",
       "    </tr>\n",
       "    <tr>\n",
       "      <th>6</th>\n",
       "      <td>21</td>\n",
       "      <td>2</td>\n",
       "      <td>66.058442</td>\n",
       "    </tr>\n",
       "    <tr>\n",
       "      <th>7</th>\n",
       "      <td>3</td>\n",
       "      <td>4</td>\n",
       "      <td>71.249351</td>\n",
       "    </tr>\n",
       "    <tr>\n",
       "      <th>8</th>\n",
       "      <td>6</td>\n",
       "      <td>4</td>\n",
       "      <td>70.677922</td>\n",
       "    </tr>\n",
       "    <tr>\n",
       "      <th>9</th>\n",
       "      <td>9</td>\n",
       "      <td>4</td>\n",
       "      <td>70.106494</td>\n",
       "    </tr>\n",
       "    <tr>\n",
       "      <th>10</th>\n",
       "      <td>12</td>\n",
       "      <td>4</td>\n",
       "      <td>69.535065</td>\n",
       "    </tr>\n",
       "    <tr>\n",
       "      <th>11</th>\n",
       "      <td>15</td>\n",
       "      <td>4</td>\n",
       "      <td>68.963636</td>\n",
       "    </tr>\n",
       "    <tr>\n",
       "      <th>12</th>\n",
       "      <td>18</td>\n",
       "      <td>4</td>\n",
       "      <td>68.392208</td>\n",
       "    </tr>\n",
       "    <tr>\n",
       "      <th>13</th>\n",
       "      <td>21</td>\n",
       "      <td>4</td>\n",
       "      <td>67.820779</td>\n",
       "    </tr>\n",
       "    <tr>\n",
       "      <th>14</th>\n",
       "      <td>3</td>\n",
       "      <td>6</td>\n",
       "      <td>73.011688</td>\n",
       "    </tr>\n",
       "    <tr>\n",
       "      <th>15</th>\n",
       "      <td>6</td>\n",
       "      <td>6</td>\n",
       "      <td>72.440260</td>\n",
       "    </tr>\n",
       "    <tr>\n",
       "      <th>16</th>\n",
       "      <td>9</td>\n",
       "      <td>6</td>\n",
       "      <td>71.868831</td>\n",
       "    </tr>\n",
       "    <tr>\n",
       "      <th>17</th>\n",
       "      <td>12</td>\n",
       "      <td>6</td>\n",
       "      <td>71.297403</td>\n",
       "    </tr>\n",
       "    <tr>\n",
       "      <th>18</th>\n",
       "      <td>15</td>\n",
       "      <td>6</td>\n",
       "      <td>70.725974</td>\n",
       "    </tr>\n",
       "    <tr>\n",
       "      <th>19</th>\n",
       "      <td>18</td>\n",
       "      <td>6</td>\n",
       "      <td>70.154545</td>\n",
       "    </tr>\n",
       "  </tbody>\n",
       "</table>\n",
       "</div>"
      ],
      "text/plain": [
       "     X  Y  Pred_Temp\n",
       "0    3  2  69.487013\n",
       "1    6  2  68.915584\n",
       "2    9  2  68.344156\n",
       "3   12  2  67.772727\n",
       "4   15  2  67.201299\n",
       "5   18  2  66.629870\n",
       "6   21  2  66.058442\n",
       "7    3  4  71.249351\n",
       "8    6  4  70.677922\n",
       "9    9  4  70.106494\n",
       "10  12  4  69.535065\n",
       "11  15  4  68.963636\n",
       "12  18  4  68.392208\n",
       "13  21  4  67.820779\n",
       "14   3  6  73.011688\n",
       "15   6  6  72.440260\n",
       "16   9  6  71.868831\n",
       "17  12  6  71.297403\n",
       "18  15  6  70.725974\n",
       "19  18  6  70.154545"
      ]
     },
     "execution_count": 12,
     "metadata": {},
     "output_type": "execute_result"
    }
   ],
   "source": [
    "s = pd.read_excel(\n",
    "    r\"C:\\Users\\Hitesh\\Desktop\\Major Project 2022\\Dataset.xlsx\",\n",
    "    sheet_name='Sheet2')\n",
    "\n",
    "s['Pred_Temp']=reg.predict(s)\n",
    "s.head(20)"
   ]
  },
  {
   "cell_type": "code",
   "execution_count": 13,
   "metadata": {},
   "outputs": [
    {
     "name": "stdout",
     "output_type": "stream",
     "text": [
      "[[-0.19047619  0.88116883]]\n",
      "[68.2961039]\n"
     ]
    }
   ],
   "source": [
    "print(reg.coef_)\n",
    "print(reg.intercept_)"
   ]
  },
  {
   "cell_type": "code",
   "execution_count": 14,
   "metadata": {},
   "outputs": [
    {
     "name": "stdout",
     "output_type": "stream",
     "text": [
      "The linear model is: Y = 68.296 + -0.19048*X + 0.88117*Y\n"
     ]
    }
   ],
   "source": [
    "print(\"The linear model is: Y = {:.5} + {:.5}*X + {:.5}*Y\"\n",
    ".format(reg.intercept_[0], reg.coef_[0][0], reg.coef_[0][1],))\n"
   ]
  },
  {
   "cell_type": "code",
   "execution_count": 15,
   "metadata": {},
   "outputs": [
    {
     "data": {
      "text/plain": [
       "0.6179638539472754"
      ]
     },
     "execution_count": 15,
     "metadata": {},
     "output_type": "execute_result"
    }
   ],
   "source": [
    "reg.score(xs,y)"
   ]
  },
  {
   "cell_type": "code",
   "execution_count": 16,
   "metadata": {},
   "outputs": [
    {
     "name": "stdout",
     "output_type": "stream",
     "text": [
      "                            OLS Regression Results                            \n",
      "==============================================================================\n",
      "Dep. Variable:            Temperature   R-squared:                       0.618\n",
      "Model:                            OLS   Adj. R-squared:                  0.608\n",
      "Method:                 Least Squares   F-statistic:                     59.85\n",
      "Date:                Mon, 11 Jul 2022   Prob (F-statistic):           3.45e-16\n",
      "Time:                        20:19:18   Log-Likelihood:                -224.61\n",
      "No. Observations:                  77   AIC:                             455.2\n",
      "Df Residuals:                      74   BIC:                             462.3\n",
      "Df Model:                           2                                         \n",
      "Covariance Type:            nonrobust                                         \n",
      "==============================================================================\n",
      "                 coef    std err          t      P>|t|      [0.025      0.975]\n",
      "------------------------------------------------------------------------------\n",
      "const         68.2961      1.525     44.788      0.000      65.258      71.335\n",
      "x1            -0.1905      0.087     -2.198      0.031      -0.363      -0.018\n",
      "x2             0.8812      0.082     10.718      0.000       0.717       1.045\n",
      "==============================================================================\n",
      "Omnibus:                        0.360   Durbin-Watson:                   0.889\n",
      "Prob(Omnibus):                  0.835   Jarque-Bera (JB):                0.287\n",
      "Skew:                           0.145   Prob(JB):                        0.866\n",
      "Kurtosis:                       2.930   Cond. No.                         53.1\n",
      "==============================================================================\n",
      "\n",
      "Notes:\n",
      "[1] Standard Errors assume that the covariance matrix of the errors is correctly specified.\n"
     ]
    }
   ],
   "source": [
    "x = np.column_stack((data['X'],data['Y']))\n",
    "y = data['Temperature']\n",
    "\n",
    "X2 = sm.add_constant(x)\n",
    "est = sm.OLS(y,X2)\n",
    "est2 = est.fit()\n",
    "print(est2.summary())"
   ]
  },
  {
   "cell_type": "code",
   "execution_count": 17,
   "metadata": {},
   "outputs": [
    {
     "name": "stdout",
     "output_type": "stream",
     "text": [
      "MAE: 2.7981587906708896\n",
      "RMSE: 3.4846933961109334\n"
     ]
    },
    {
     "data": {
      "image/png": "[encoded data removed]",
      "text/plain": [
       "<Figure size 432x288 with 1 Axes>"
      ]
     },
     "metadata": {
      "needs_background": "light"
     },
     "output_type": "display_data"
    }
   ],
   "source": [
    "import matplotlib.pyplot as plt\n",
    "import numpy as np\n",
    "import sklearn.linear_model\n",
    "\n",
    "from mpl_toolkits.mplot3d import Axes3D\n",
    "\n",
    "\n",
    "fig = plt.figure()\n",
    "ax = fig.add_subplot(111, projection='3d')\n",
    "ax.scatter(\n",
    "    x_train.iloc[:,0], x_train.iloc[:,1], y_train, \n",
    "    marker='.', color='red')\n",
    "ax.set_xlabel(\"X\")\n",
    "ax.set_ylabel(\"Y\")\n",
    "ax.set_zlabel(\"T\")\n",
    "\n",
    "model = sklearn.linear_model.LinearRegression()\n",
    "model.fit(x_train, y_train)\n",
    "y_pred = model.predict(x_test)\n",
    "\n",
    "print(\"MAE: {}\"\n",
    ".format(np.abs(y_test-y_pred).mean()))\n",
    "print(\"RMSE: {}\"\n",
    ".format(np.sqrt(((y_test-y_pred)**2).mean())))\n",
    "\n",
    "coefs = model.coef_\n",
    "intercept = model.intercept_\n",
    "xs = np.tile(np.arange(61), (61,1))\n",
    "ys = np.tile(np.arange(61), (61,1)).T\n",
    "zs = xs*reg.coef_[0][0]+ys*reg.coef_[0][1]+reg.intercept_\n",
    "\n",
    "ax.plot_surface(xs,ys,zs, alpha=0.5)\n",
    "plt.show()\n"
   ]
  },
  {
   "cell_type": "code",
   "execution_count": 20,
   "metadata": {},
   "outputs": [
    {
     "name": "stderr",
     "output_type": "stream",
     "text": [
      "c:\\Users\\Hitesh\\anaconda3\\lib\\site-packages\\sklearn\\utils\\validation.py:63: FutureWarning: Arrays of bytes/strings is being converted to decimal numbers if dtype='numeric'. This behavior is deprecated in 0.24 and will be removed in 1.1 (renaming of 0.26). Please convert your data to numeric values explicitly instead.\n",
      "  return f(*args, **kwargs)\n"
     ]
    }
   ],
   "source": [
    "from tkinter import *\n",
    "\n",
    "\n",
    "root = Tk()\n",
    "root.geometry('500x500')\n",
    "root.resizable(0,0)\n",
    "root.title(\"Temp Prediction\")\n",
    "root.config(bg='#798dad')\n",
    "\n",
    "\n",
    "user_take1 = StringVar()\n",
    "user_take2 = StringVar()\n",
    "\n",
    "\n",
    "Label(root,text='''RNS Institute of Technology\n",
    "Mechanical Department''',\n",
    "font='TimesNewRoman 20 bold',\n",
    "bg='#798dad').place(x=60,y=20)\n",
    "\n",
    "Label(root,text='Input X Coordinate',\n",
    "font='TimesNewRoman 16 bold', \n",
    "bg='#798dad').place(x=60,y=100)\n",
    "\n",
    "Entry(root,\n",
    "font='TimenNewRoman 15',textvariable = user_take1,\n",
    "bg='#dce7f7').place(x=110,y=150)\n",
    "\n",
    "Label(root,text='Input Y Coordinate',\n",
    "font='TimesNewRoman 16 bold',\n",
    " bg='#798dad').place(x=60,y=190)\n",
    "\n",
    "Entry(root,font='TimenNewRoman 15',\n",
    "textvariable = user_take2,\n",
    "bg='#dce7f7').place(x=110,y=240)\n",
    "\n",
    "\n",
    "result = StringVar()\n",
    "def Predict():\n",
    "    a = user_take1.get()\n",
    "    b = user_take2.get()\n",
    "    r = reg.predict([[a,b]])\n",
    "    result.set(r[0][0])\n",
    "\n",
    "\n",
    "def Reset():\n",
    "    result#fafbfc'\n",
    "    user_take1.set(\"\")\n",
    "    user_take2.set(\"\")\n",
    "    result.set(\"\")\n",
    "    \n",
    "\n",
    "\n",
    "def Exit():\n",
    "    root.destroy()\n",
    "\n",
    "\n",
    "Entry(root, font = 'arial 10 bold', \n",
    "textvariable = result, bg ='antiquewhite2',\n",
    "width = 50,).place(x=60, y = 350)\n",
    "\n",
    "\n",
    "Button(root, font = 'arial 13 bold',\n",
    "text = 'PREDICT'  ,padx =5,bg ='seashell4' ,\n",
    "command = Predict).place(x=170,y=290)\n",
    "\n",
    "\n",
    "Button(root, font = 'arial 13 bold',\n",
    "text = 'RESET'  ,padx =5,bg ='seashell4' ,\n",
    "command = Reset).place(x=110,y=400)\n",
    "\n",
    "\n",
    "Button(root, font = 'arial 13 bold', \n",
    "text = 'EXIT'  ,padx =5,bg ='seashell4' ,\n",
    "command = Exit).place(x=260,y=400)\n",
    "\n",
    "root.mainloop()"
   ]
  },
  {
   "cell_type": "code",
   "execution_count": null,
   "metadata": {},
   "outputs": [],
   "source": []
  },
  {
   "cell_type": "code",
   "execution_count": null,
   "metadata": {},
   "outputs": [],
   "source": []
  },
  {
   "cell_type": "code",
   "execution_count": null,
   "metadata": {},
   "outputs": [],
   "source": []
  },
  {
   "cell_type": "markdown",
   "metadata": {},
   "source": []
  }
 ],
 "metadata": {
  "interpreter": {
   "hash": "11e2c9d6014530666d73493402d9b0c68c395cd3cda260729bcbb2898cd61cc3"
  },
  "kernelspec": {
   "display_name": "Python 3.8.8 ('base')",
   "language": "python",
   "name": "python3"
  },
  "language_info": {
   "codemirror_mode": {
    "name": "ipython",
    "version": 3
   },
   "file_extension": ".py",
   "mimetype": "text/x-python",
   "name": "python",
   "nbconvert_exporter": "python",
   "pygments_lexer": "ipython3",
   "version": "3.8.8"
  },
  "orig_nbformat": 4
 },
 "nbformat": 4,
 "nbformat_minor": 2
}
